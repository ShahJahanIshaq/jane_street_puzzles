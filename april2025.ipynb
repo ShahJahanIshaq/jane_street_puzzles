{
 "cells": [
  {
   "cell_type": "code",
   "execution_count": 1,
   "metadata": {},
   "outputs": [],
   "source": [
    "from decimal import Decimal, getcontext, DivisionByZero, InvalidOperation\n",
    "import sys"
   ]
  },
  {
   "cell_type": "code",
   "execution_count": 2,
   "metadata": {},
   "outputs": [],
   "source": [
    "# Set precision to 30 decimal places\n",
    "getcontext().prec = 30\n",
    "\n",
    "def newton_raphson_cubic(a, b, c, d, initial_guess, tolerance=Decimal('1e-12'), max_iterations=1000):\n",
    "    \"\"\"\n",
    "    Solves the cubic equation ax^3 + bx^2 + cx + d = 0 using the Newton-Raphson method.\n",
    "\n",
    "    Parameters:\n",
    "    - a, b, c, d: Coefficients of the cubic equation.\n",
    "    - initial_guess: Starting point for Newton-Raphson iteration.\n",
    "    - tolerance: Desired precision.\n",
    "    - max_iterations: Maximum number of iterations to prevent infinite loops.\n",
    "\n",
    "    Returns:\n",
    "    - A root of the cubic equation with high precision.\n",
    "    \"\"\"\n",
    "    # Convert all inputs to Decimal for high precision\n",
    "    a = Decimal(a)\n",
    "    b = Decimal(b)\n",
    "    c = Decimal(c)\n",
    "    d = Decimal(d)\n",
    "    x_n = Decimal(initial_guess)\n",
    "\n",
    "    for iteration in range(max_iterations):\n",
    "        # Calculate f(x) = ax^3 + bx^2 + cx + d\n",
    "        f_x = a * x_n**3 + b * x_n**2 + c * x_n + d\n",
    "\n",
    "        # Calculate f'(x) = 3ax^2 + 2bx + c\n",
    "        f_prime_x = Decimal('3') * a * x_n**2 + Decimal('2') * b * x_n + c\n",
    "\n",
    "        if f_prime_x == 0:\n",
    "            raise ZeroDivisionError(f\"Derivative is zero at x = {x_n}. No solution found.\")\n",
    "\n",
    "        # Newton-Raphson formula: x1 = x0 - f(x0)/f'(x0)\n",
    "        try:\n",
    "            x_next = x_n - f_x / f_prime_x\n",
    "        except (DivisionByZero, InvalidOperation):\n",
    "            raise ZeroDivisionError(f\"Division by zero encountered at iteration {iteration}.\")\n",
    "\n",
    "        # Check for convergence\n",
    "        if abs(x_next - x_n) < tolerance:\n",
    "            print(f\"Converged in {iteration + 1} iterations.\")\n",
    "            return +x_next  # Unary plus applies the precision\n",
    "\n",
    "        x_n = x_next\n",
    "\n",
    "    # If no convergence, raise an exception\n",
    "    raise Exception(f\"Newton-Raphson did not converge within {max_iterations} iterations.\")"
   ]
  },
  {
   "cell_type": "code",
   "execution_count": 3,
   "metadata": {},
   "outputs": [
    {
     "name": "stdout",
     "output_type": "stream",
     "text": [
      "Converged in 11 iterations.\n",
      "A root of the equation is: 0.530603575430\n"
     ]
    }
   ],
   "source": [
    "# ax^3 + bx^2 + cx + d = 0\n",
    "a = '3'\n",
    "b = '-10'\n",
    "c = '12'\n",
    "d = '-4'\n",
    "\n",
    "initial_guess = '3'\n",
    "\n",
    "try:\n",
    "    root = newton_raphson_cubic(a, b, c, d, initial_guess)\n",
    "    print(f\"A root of the equation is: {root:.12f}\")\n",
    "except Exception as e:\n",
    "    print(str(e), file=sys.stderr)"
   ]
  },
  {
   "cell_type": "code",
   "execution_count": null,
   "metadata": {},
   "outputs": [],
   "source": []
  }
 ],
 "metadata": {
  "kernelspec": {
   "display_name": ".venv",
   "language": "python",
   "name": "python3"
  },
  "language_info": {
   "codemirror_mode": {
    "name": "ipython",
    "version": 3
   },
   "file_extension": ".py",
   "mimetype": "text/x-python",
   "name": "python",
   "nbconvert_exporter": "python",
   "pygments_lexer": "ipython3",
   "version": "3.13.2"
  }
 },
 "nbformat": 4,
 "nbformat_minor": 2
}
