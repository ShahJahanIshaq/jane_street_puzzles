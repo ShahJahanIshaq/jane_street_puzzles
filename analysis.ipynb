{
 "cells": [
  {
   "cell_type": "code",
   "execution_count": 20,
   "metadata": {},
   "outputs": [],
   "source": [
    "import pickle\n",
    "from collections import Counter\n",
    "import matplotlib.pyplot as plt\n",
    "import numpy as np"
   ]
  },
  {
   "cell_type": "code",
   "execution_count": 4,
   "metadata": {},
   "outputs": [],
   "source": [
    "with open(\"solvers_counts.pkl\", \"rb\") as fp:\n",
    "    solvers_counts = pickle.load(fp)\n",
    "with open(\"solvers_puzzles.pkl\", \"rb\") as fp:\n",
    "    solvers_puzzles = pickle.load(fp)"
   ]
  },
  {
   "cell_type": "code",
   "execution_count": null,
   "metadata": {},
   "outputs": [],
   "source": [
    "solvers_puzzles[\"Lazar Ilic\"]"
   ]
  },
  {
   "cell_type": "code",
   "execution_count": 6,
   "metadata": {},
   "outputs": [
    {
     "data": {
      "text/plain": [
       "[]"
      ]
     },
     "execution_count": 6,
     "metadata": {},
     "output_type": "execute_result"
    }
   ],
   "source": [
    "[k for k in solvers_puzzles.keys() if \"seyyid\" in k.lower()]"
   ]
  },
  {
   "cell_type": "code",
   "execution_count": 7,
   "metadata": {},
   "outputs": [
    {
     "data": {
      "text/plain": [
       "{'Die Agony', 'Games Night', 'Top Score Give or Take'}"
      ]
     },
     "execution_count": 7,
     "metadata": {},
     "output_type": "execute_result"
    }
   ],
   "source": [
    "set(solvers_puzzles[\"Shah Jahan Ishaq\"]).intersection(set(solvers_puzzles[\"Neville Fogarty\"]))"
   ]
  },
  {
   "cell_type": "code",
   "execution_count": 23,
   "metadata": {},
   "outputs": [
    {
     "data": {
      "text/plain": [
       "Counter({1: 7593,\n",
       "         2: 1199,\n",
       "         3: 436,\n",
       "         4: 246,\n",
       "         5: 131,\n",
       "         6: 81,\n",
       "         7: 65,\n",
       "         8: 43,\n",
       "         9: 27,\n",
       "         10: 23,\n",
       "         13: 16,\n",
       "         12: 15,\n",
       "         11: 14,\n",
       "         14: 9,\n",
       "         16: 9,\n",
       "         17: 7,\n",
       "         15: 7,\n",
       "         20: 6,\n",
       "         18: 6,\n",
       "         19: 4,\n",
       "         21: 4,\n",
       "         30: 2,\n",
       "         24: 2,\n",
       "         48: 2,\n",
       "         23: 2,\n",
       "         39: 1,\n",
       "         26: 1,\n",
       "         41: 1,\n",
       "         55: 1,\n",
       "         60: 1,\n",
       "         45: 1,\n",
       "         43: 1,\n",
       "         63: 1,\n",
       "         22: 1,\n",
       "         36: 1,\n",
       "         28: 1,\n",
       "         38: 1,\n",
       "         25: 1})"
      ]
     },
     "execution_count": 23,
     "metadata": {},
     "output_type": "execute_result"
    }
   ],
   "source": [
    "sorted_solvers = sorted(list(solvers_counts.items()), key=lambda x:x[1], reverse=True)\n",
    "d = Counter(solvers_counts.values())\n",
    "d"
   ]
  },
  {
   "cell_type": "code",
   "execution_count": 29,
   "metadata": {},
   "outputs": [
    {
     "name": "stdout",
     "output_type": "stream",
     "text": [
      "(1, 7593) (2, 1199) (3, 436) (4, 246) (5, 131) (6, 81) (7, 65) (8, 43) (9, 27) (10, 23) (11, 14) (12, 15) (13, 16) (14, 9) (15, 7) (16, 9) (17, 7) (18, 6) (19, 4) (20, 6) (21, 4) (22, 1) (23, 2) (24, 2) (25, 1) (26, 1) (28, 1) (30, 2) (36, 1) (38, 1) (39, 1) (41, 1) (43, 1) (45, 1) (48, 2) (55, 1) (60, 1) (63, 1)\n"
     ]
    },
    {
     "data": {
      "image/png": "[encoded data removed]",
      "text/plain": [
       "<Figure size 640x480 with 1 Axes>"
      ]
     },
     "metadata": {},
     "output_type": "display_data"
    }
   ],
   "source": [
    "# Prepare data for the histogram\n",
    "labels, values = zip(*sorted(d.items()))\n",
    "print(*sorted(d.items()))\n",
    "\n",
    "# Create an array with the position of each bar along the x-axis\n",
    "x_pos = np.arange(len(labels))\n",
    "\n",
    "# Create the histogram\n",
    "plt.bar(x_pos, values, align='center', alpha=0.7)\n",
    "plt.xticks(x_pos, labels)  # Replace the x ticks with the item names\n",
    "plt.ylabel('Counts')\n",
    "plt.title('Item Frequency Histogram')\n",
    "\n",
    "plt.show()"
   ]
  },
  {
   "cell_type": "code",
   "execution_count": null,
   "metadata": {},
   "outputs": [],
   "source": []
  }
 ],
 "metadata": {
  "kernelspec": {
   "display_name": ".venv",
   "language": "python",
   "name": "python3"
  },
  "language_info": {
   "codemirror_mode": {
    "name": "ipython",
    "version": 3
   },
   "file_extension": ".py",
   "mimetype": "text/x-python",
   "name": "python",
   "nbconvert_exporter": "python",
   "pygments_lexer": "ipython3",
   "version": "3.13.2"
  }
 },
 "nbformat": 4,
 "nbformat_minor": 2
}
